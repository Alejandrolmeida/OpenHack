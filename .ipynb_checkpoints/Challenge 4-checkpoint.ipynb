{
 "cells": [
  {
   "cell_type": "markdown",
   "metadata": {},
   "source": [
    "# Challenge 4"
   ]
  },
  {
   "cell_type": "code",
   "execution_count": 40,
   "metadata": {},
   "outputs": [
    {
     "name": "stdout",
     "output_type": "stream",
     "text": [
      "The autotime extension is already loaded. To reload it, use:\n",
      "  %reload_ext autotime\n",
      "time: 1.22 ms\n"
     ]
    }
   ],
   "source": [
    "%load_ext autotime"
   ]
  },
  {
   "cell_type": "markdown",
   "metadata": {},
   "source": [
    "## Preprocessing"
   ]
  },
  {
   "cell_type": "code",
   "execution_count": 41,
   "metadata": {},
   "outputs": [
    {
     "name": "stdout",
     "output_type": "stream",
     "text": [
      "time: 20.2 ms\n"
     ]
    }
   ],
   "source": [
    "import cv2\n",
    "import numpy as np\n",
    "import matplotlib.pyplot as plt\n",
    "import seaborn as sns\n",
    "from PIL import Image, ImageOps\n",
    "import os\n",
    "from imutils import paths\n",
    "%matplotlib inline"
   ]
  },
  {
   "cell_type": "code",
   "execution_count": 42,
   "metadata": {},
   "outputs": [
    {
     "name": "stdout",
     "output_type": "stream",
     "text": [
      "time: 18.3 ms\n"
     ]
    }
   ],
   "source": [
    "def processImage(im, desired_size, debug=False):\n",
    "    # get old size\n",
    "    old_size = im.size \n",
    "    # detect the ratio to which we need to scale the image\n",
    "    ratio = float(desired_size)/max(old_size)\n",
    "    # detect the new size of the image to fit the square box\n",
    "    new_size = tuple([int(x*ratio) for x in old_size])\n",
    "    # resize to new size\n",
    "    im = im.resize(new_size, Image.ANTIALIAS)\n",
    "    # define background color\n",
    "    bgcolor = 0xffffff\n",
    "    # create new blank image and \"paste\" the resized image in the middle of it\n",
    "    new_im = Image.new(\"RGB\", (desired_size, desired_size), bgcolor)\n",
    "    new_im.paste(im, ((desired_size-new_size[0])//2,\n",
    "                    (desired_size-new_size[1])//2))\n",
    "    \n",
    "    # do color equalization\n",
    "    arr = Image.fromarray(np.uint8(new_im))\n",
    "    new_im = ImageOps.equalize(arr)\n",
    "    return new_im"
   ]
  },
  {
   "cell_type": "code",
   "execution_count": 43,
   "metadata": {},
   "outputs": [
    {
     "name": "stdout",
     "output_type": "stream",
     "text": [
      "time: 22.2 ms\n"
     ]
    }
   ],
   "source": [
    "def load(imagePaths, verbose = -1):\n",
    "    data = []\n",
    "    labels = []\n",
    "\n",
    "    #loop over input images\n",
    "    for (i, imagePath) in enumerate(imagePaths):\n",
    "        # assumes our path has the following format:\n",
    "        # /path/to/dataset/{class}/{image}.jpg\n",
    "        image = Image.open(imagePath)\n",
    "        label = imagePath.split(os.path.sep)[-2]\n",
    "        \n",
    "        #preprocess\n",
    "        image = processImage(image, 128)\n",
    "        \n",
    "        data.append(np.asarray(image, dtype=np.uint8) / 255)\n",
    "        labels.append(label)\n",
    "\n",
    "        # show an update every 'verbose' images\n",
    "        if verbose > 0 and i > 0 and (i+1) % verbose == 0:\n",
    "            print('[INFO] processed {}/{}'.format(i + 1, len(imagePaths)))\n",
    "        \n",
    "    return (np.array(data), np.array(labels))"
   ]
  },
  {
   "cell_type": "code",
   "execution_count": 44,
   "metadata": {},
   "outputs": [
    {
     "name": "stdout",
     "output_type": "stream",
     "text": [
      "[INFO] processed 100/2122\n",
      "[INFO] processed 200/2122\n",
      "[INFO] processed 300/2122\n",
      "[INFO] processed 400/2122\n",
      "[INFO] processed 500/2122\n",
      "[INFO] processed 600/2122\n",
      "[INFO] processed 700/2122\n",
      "[INFO] processed 800/2122\n",
      "[INFO] processed 900/2122\n",
      "[INFO] processed 1000/2122\n",
      "[INFO] processed 1100/2122\n",
      "[INFO] processed 1200/2122\n",
      "[INFO] processed 1300/2122\n",
      "[INFO] processed 1400/2122\n",
      "[INFO] processed 1500/2122\n",
      "[INFO] processed 1600/2122\n",
      "[INFO] processed 1700/2122\n",
      "[INFO] processed 1800/2122\n",
      "[INFO] processed 1900/2122\n",
      "[INFO] processed 2000/2122\n",
      "[INFO] processed 2100/2122\n",
      "(2122, 128, 128, 3)\n",
      "(2122,)\n",
      "time: 11.3 s\n"
     ]
    }
   ],
   "source": [
    "imagePaths = list(paths.list_images('gear_images'))\n",
    "(data, labels) = load(imagePaths, verbose=100)\n",
    "\n",
    "size = 128 * 128 * 3\n",
    "print(data.shape)\n",
    "print(labels.shape)"
   ]
  },
  {
   "cell_type": "markdown",
   "metadata": {},
   "source": [
    "## Modelling"
   ]
  },
  {
   "cell_type": "markdown",
   "metadata": {},
   "source": [
    "### Encode Labels"
   ]
  },
  {
   "cell_type": "code",
   "execution_count": 45,
   "metadata": {},
   "outputs": [
    {
     "name": "stdout",
     "output_type": "stream",
     "text": [
      "['axes' 'boots' 'carabiners' 'crampons' 'gloves' 'hardshell_jackets'\n",
      " 'harnesses' 'helmets' 'insulated_jackets' 'pulleys' 'rope' 'tents']\n",
      "[[0 1 0 ... 0 0 0]\n",
      " [0 1 0 ... 0 0 0]\n",
      " [0 1 0 ... 0 0 0]\n",
      " ...\n",
      " [1 0 0 ... 0 0 0]\n",
      " [1 0 0 ... 0 0 0]\n",
      " [1 0 0 ... 0 0 0]]\n",
      "time: 6.8 ms\n"
     ]
    }
   ],
   "source": [
    "from sklearn import preprocessing\n",
    "lb = preprocessing.LabelBinarizer()\n",
    "encoded_labels = lb.fit_transform(labels)\n",
    "\n",
    "print(lb.classes_)\n",
    "print(encoded_labels)"
   ]
  },
  {
   "cell_type": "markdown",
   "metadata": {},
   "source": [
    "### Split Data"
   ]
  },
  {
   "cell_type": "code",
   "execution_count": 46,
   "metadata": {},
   "outputs": [
    {
     "name": "stdout",
     "output_type": "stream",
     "text": [
      "(1485, 128, 128, 3)\n",
      "(1485, 12)\n",
      "(637, 128, 128, 3)\n",
      "(637, 12)\n",
      "time: 335 ms\n"
     ]
    }
   ],
   "source": [
    "from sklearn.model_selection import train_test_split\n",
    "\n",
    "data_train, data_test, label_train, label_test = train_test_split(data, encoded_labels, test_size=0.3, random_state=1)\n",
    "\n",
    "print(data_train.shape)\n",
    "print(label_train.shape)\n",
    "print(data_test.shape)\n",
    "print(label_test.shape)"
   ]
  },
  {
   "cell_type": "markdown",
   "metadata": {},
   "source": [
    "### Train model"
   ]
  },
  {
   "cell_type": "markdown",
   "metadata": {},
   "source": [
    "#### Pipeline"
   ]
  },
  {
   "cell_type": "code",
   "execution_count": 47,
   "metadata": {},
   "outputs": [
    {
     "name": "stdout",
     "output_type": "stream",
     "text": [
      "time: 99.7 ms\n"
     ]
    }
   ],
   "source": [
    "from keras.models import Sequential\n",
    "from keras.layers import Dense, Dropout, Activation, Flatten\n",
    "from keras.layers import Conv2D, MaxPooling2D\n",
    "\n",
    "num_classes = 12\n",
    "\n",
    "model = Sequential()\n",
    "model.add(Conv2D(32, kernel_size=(7, 7), activation='relu', input_shape=data_train.shape[1:]))\n",
    "model.add(MaxPooling2D(pool_size=(2, 2)))\n",
    "model.add(Conv2D(64, (5, 5), activation='relu'))\n",
    "model.add(MaxPooling2D(pool_size=(2, 2)))\n",
    "model.add(Conv2D(128, (3, 3), activation='relu'))\n",
    "model.add(MaxPooling2D(pool_size=(2, 2)))\n",
    "model.add(Flatten())\n",
    "model.add(Dropout(0.2))\n",
    "model.add(Dense(256, activation='relu'))\n",
    "model.add(Dense(num_classes, activation='softmax'))"
   ]
  },
  {
   "cell_type": "markdown",
   "metadata": {},
   "source": [
    "#### Compiler"
   ]
  },
  {
   "cell_type": "code",
   "execution_count": 48,
   "metadata": {},
   "outputs": [
    {
     "name": "stdout",
     "output_type": "stream",
     "text": [
      "time: 37.6 ms\n"
     ]
    }
   ],
   "source": [
    "# For a multi-class classification problem\n",
    "model.compile(optimizer='rmsprop',\n",
    "              loss='categorical_crossentropy',\n",
    "              metrics=['accuracy'])"
   ]
  },
  {
   "cell_type": "markdown",
   "metadata": {},
   "source": [
    "#### Train"
   ]
  },
  {
   "cell_type": "code",
   "execution_count": 49,
   "metadata": {},
   "outputs": [
    {
     "name": "stdout",
     "output_type": "stream",
     "text": [
      "Train on 1485 samples, validate on 637 samples\n",
      "Epoch 1/10\n",
      "1485/1485 [==============================] - 55s 37ms/step - loss: 2.4178 - acc: 0.3024 - val_loss: 1.9395 - val_acc: 0.4176\n",
      "Epoch 2/10\n",
      "1485/1485 [==============================] - 54s 36ms/step - loss: 1.1299 - acc: 0.6606 - val_loss: 0.6028 - val_acc: 0.8022\n",
      "Epoch 3/10\n",
      "1485/1485 [==============================] - 54s 36ms/step - loss: 0.6135 - acc: 0.7980 - val_loss: 0.8586 - val_acc: 0.7206\n",
      "Epoch 4/10\n",
      "1485/1485 [==============================] - 54s 37ms/step - loss: 0.4463 - acc: 0.8734 - val_loss: 0.3580 - val_acc: 0.8823\n",
      "Epoch 5/10\n",
      "1485/1485 [==============================] - 54s 37ms/step - loss: 0.2767 - acc: 0.9064 - val_loss: 0.3190 - val_acc: 0.9137\n",
      "Epoch 6/10\n",
      "1485/1485 [==============================] - 54s 36ms/step - loss: 0.1057 - acc: 0.9690 - val_loss: 0.3423 - val_acc: 0.9231\n",
      "Epoch 7/10\n",
      "1485/1485 [==============================] - 54s 36ms/step - loss: 0.0729 - acc: 0.9758 - val_loss: 0.4485 - val_acc: 0.9027\n",
      "Epoch 8/10\n",
      "1485/1485 [==============================] - 54s 37ms/step - loss: 0.0753 - acc: 0.9758 - val_loss: 0.3564 - val_acc: 0.9246\n",
      "Epoch 9/10\n",
      "1485/1485 [==============================] - 54s 37ms/step - loss: 0.2668 - acc: 0.9630 - val_loss: 0.5074 - val_acc: 0.9011\n",
      "Epoch 10/10\n",
      "1485/1485 [==============================] - 54s 36ms/step - loss: 0.0279 - acc: 0.9926 - val_loss: 0.4384 - val_acc: 0.9372\n"
     ]
    },
    {
     "data": {
      "text/plain": [
       "<keras.callbacks.History at 0x7f338ae5be48>"
      ]
     },
     "execution_count": 49,
     "metadata": {},
     "output_type": "execute_result"
    },
    {
     "name": "stdout",
     "output_type": "stream",
     "text": [
      "time: 9min 2s\n"
     ]
    }
   ],
   "source": [
    "# Train the model, iterating on the data in batches of 32 samples\n",
    "model.fit(data_train, label_train, epochs=10, batch_size=32, validation_data=(data_test, label_test))"
   ]
  },
  {
   "cell_type": "code",
   "execution_count": 50,
   "metadata": {},
   "outputs": [
    {
     "name": "stdout",
     "output_type": "stream",
     "text": [
      "time: 1.25 ms\n"
     ]
    }
   ],
   "source": [
    "# Convert labels to categorical one-hot encoding\n",
    "#one_hot_labels = keras.utils.to_categorical(labels, num_classes=10)\n",
    "\n",
    "# Train the model, iterating on the data in batches of 32 samples\n",
    "#model.fit(data, one_hot_labels, epochs=10, batch_size=32)"
   ]
  },
  {
   "cell_type": "markdown",
   "metadata": {},
   "source": [
    "#### Predict"
   ]
  },
  {
   "cell_type": "code",
   "execution_count": 51,
   "metadata": {},
   "outputs": [
    {
     "name": "stdout",
     "output_type": "stream",
     "text": [
      "time: 7.27 s\n"
     ]
    }
   ],
   "source": [
    "pred = model.predict(data_test, batch_size = 100)"
   ]
  },
  {
   "cell_type": "code",
   "execution_count": 52,
   "metadata": {
    "scrolled": true
   },
   "outputs": [
    {
     "name": "stdout",
     "output_type": "stream",
     "text": [
      "[[3.05944741e-05 7.02381842e-09 7.31670866e-07 ... 1.56272439e-09\n",
      "  1.33449096e-09 1.00635472e-17]\n",
      " [8.28786254e-22 6.58399878e-25 1.00000000e+00 ... 2.34449224e-17\n",
      "  1.85125548e-22 5.00442789e-26]\n",
      " [3.65216351e-07 2.04412259e-15 1.16167519e-15 ... 4.12741835e-13\n",
      "  9.99953151e-01 3.28214390e-18]\n",
      " ...\n",
      " [8.20717452e-12 1.61559758e-13 1.70978180e-22 ... 2.12280912e-20\n",
      "  2.15180496e-09 2.72861345e-19]\n",
      " [2.90142869e-14 1.01355054e-20 6.04650488e-15 ... 2.07716259e-15\n",
      "  1.00000000e+00 5.22473188e-24]\n",
      " [9.54527780e-03 3.99156562e-07 1.02617145e-02 ... 1.14833994e-04\n",
      "  8.92954245e-02 4.08624592e-11]]\n",
      "[[0 0 0 ... 0 0 0]\n",
      " [0 0 1 ... 0 0 0]\n",
      " [0 0 0 ... 0 1 0]\n",
      " ...\n",
      " [0 0 0 ... 0 0 0]\n",
      " [0 0 0 ... 0 1 0]\n",
      " [0 0 0 ... 1 0 0]]\n",
      "time: 2.63 ms\n"
     ]
    }
   ],
   "source": [
    "print(pred)\n",
    "print(label_test)"
   ]
  },
  {
   "cell_type": "markdown",
   "metadata": {},
   "source": [
    "### Score model"
   ]
  },
  {
   "cell_type": "code",
   "execution_count": 53,
   "metadata": {},
   "outputs": [
    {
     "name": "stdout",
     "output_type": "stream",
     "text": [
      "Test loss: 0.4383561479708463\n",
      "Test accuracy: 0.9372056506492279\n",
      "time: 7.16 s\n"
     ]
    }
   ],
   "source": [
    "score = model.evaluate(data_test, label_test, verbose=0)\n",
    "\n",
    "print('Test loss:', score[0])\n",
    "print('Test accuracy:', score[1])"
   ]
  },
  {
   "cell_type": "markdown",
   "metadata": {},
   "source": [
    "\n",
    "### Full Report"
   ]
  },
  {
   "cell_type": "code",
   "execution_count": 54,
   "metadata": {},
   "outputs": [
    {
     "name": "stdout",
     "output_type": "stream",
     "text": [
      "                   precision    recall  f1-score   support\n",
      "\n",
      "             axes       1.00      0.79      0.88        19\n",
      "            boots       0.97      1.00      0.99        37\n",
      "       carabiners       0.95      0.95      0.95        82\n",
      "         crampons       0.90      1.00      0.95        36\n",
      "           gloves       0.86      0.88      0.87        65\n",
      "hardshell_jackets       0.93      0.98      0.95       129\n",
      "        harnesses       1.00      0.96      0.98        56\n",
      "          helmets       0.97      0.91      0.94        33\n",
      "insulated_jackets       0.95      0.87      0.91        70\n",
      "          pulleys       1.00      0.81      0.90        16\n",
      "             rope       0.90      0.98      0.94        58\n",
      "            tents       0.94      0.89      0.91        36\n",
      "\n",
      "      avg / total       0.94      0.94      0.94       637\n",
      "\n",
      "time: 3.76 ms\n"
     ]
    }
   ],
   "source": [
    "import sklearn.metrics as metrics\n",
    "\n",
    "target_names = lb.classes_\n",
    "print(metrics.classification_report(label_test.argmax(axis=1), pred.argmax(axis=1), target_names=target_names))"
   ]
  },
  {
   "cell_type": "markdown",
   "metadata": {},
   "source": [
    "#### Report model"
   ]
  },
  {
   "cell_type": "code",
   "execution_count": 56,
   "metadata": {},
   "outputs": [
    {
     "name": "stdout",
     "output_type": "stream",
     "text": [
      "_________________________________________________________________\n",
      "Layer (type)                 Output Shape              Param #   \n",
      "=================================================================\n",
      "conv2d_13 (Conv2D)           (None, 122, 122, 32)      4736      \n",
      "_________________________________________________________________\n",
      "max_pooling2d_13 (MaxPooling (None, 61, 61, 32)        0         \n",
      "_________________________________________________________________\n",
      "conv2d_14 (Conv2D)           (None, 57, 57, 64)        51264     \n",
      "_________________________________________________________________\n",
      "max_pooling2d_14 (MaxPooling (None, 28, 28, 64)        0         \n",
      "_________________________________________________________________\n",
      "conv2d_15 (Conv2D)           (None, 26, 26, 128)       73856     \n",
      "_________________________________________________________________\n",
      "max_pooling2d_15 (MaxPooling (None, 13, 13, 128)       0         \n",
      "_________________________________________________________________\n",
      "flatten_5 (Flatten)          (None, 21632)             0         \n",
      "_________________________________________________________________\n",
      "dropout_2 (Dropout)          (None, 21632)             0         \n",
      "_________________________________________________________________\n",
      "dense_7 (Dense)              (None, 256)               5538048   \n",
      "_________________________________________________________________\n",
      "dense_8 (Dense)              (None, 12)                3084      \n",
      "=================================================================\n",
      "Total params: 5,670,988\n",
      "Trainable params: 5,670,988\n",
      "Non-trainable params: 0\n",
      "_________________________________________________________________\n",
      "time: 3 ms\n"
     ]
    }
   ],
   "source": [
    "model.summary()"
   ]
  },
  {
   "cell_type": "markdown",
   "metadata": {},
   "source": [
    "### Save model"
   ]
  },
  {
   "cell_type": "code",
   "execution_count": 57,
   "metadata": {},
   "outputs": [
    {
     "name": "stdout",
     "output_type": "stream",
     "text": [
      "time: 325 ms\n"
     ]
    }
   ],
   "source": [
    "model.save(\"keras-cnn.h5\")"
   ]
  },
  {
   "cell_type": "code",
   "execution_count": null,
   "metadata": {},
   "outputs": [],
   "source": []
  }
 ],
 "metadata": {
  "kernelspec": {
   "display_name": "Python 3",
   "language": "python",
   "name": "python3"
  },
  "language_info": {
   "codemirror_mode": {
    "name": "ipython",
    "version": 3
   },
   "file_extension": ".py",
   "mimetype": "text/x-python",
   "name": "python",
   "nbconvert_exporter": "python",
   "pygments_lexer": "ipython3",
   "version": "3.5.4"
  }
 },
 "nbformat": 4,
 "nbformat_minor": 2
}
