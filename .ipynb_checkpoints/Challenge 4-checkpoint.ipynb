{
 "cells": [
  {
   "cell_type": "markdown",
   "metadata": {},
   "source": [
    "# Challenge 3"
   ]
  },
  {
   "cell_type": "code",
   "execution_count": 1,
   "metadata": {},
   "outputs": [],
   "source": [
    "%load_ext autotime"
   ]
  },
  {
   "cell_type": "markdown",
   "metadata": {},
   "source": [
    "## Preprocessing"
   ]
  },
  {
   "cell_type": "code",
   "execution_count": 2,
   "metadata": {},
   "outputs": [
    {
     "name": "stdout",
     "output_type": "stream",
     "text": [
      "time: 836 ms\n"
     ]
    }
   ],
   "source": [
    "import cv2\n",
    "import numpy as np\n",
    "import matplotlib.pyplot as plt\n",
    "import seaborn as sns\n",
    "from PIL import Image, ImageOps\n",
    "import os\n",
    "from imutils import paths\n",
    "%matplotlib inline"
   ]
  },
  {
   "cell_type": "code",
   "execution_count": 3,
   "metadata": {},
   "outputs": [
    {
     "name": "stdout",
     "output_type": "stream",
     "text": [
      "time: 18.7 ms\n"
     ]
    }
   ],
   "source": [
    "def processImage(im, desired_size, debug=False):\n",
    "    # get old size\n",
    "    old_size = im.size \n",
    "    # detect the ratio to which we need to scale the image\n",
    "    ratio = float(desired_size)/max(old_size)\n",
    "    # detect the new size of the image to fit the square box\n",
    "    new_size = tuple([int(x*ratio) for x in old_size])\n",
    "    # resize to new size\n",
    "    im = im.resize(new_size, Image.ANTIALIAS)\n",
    "    # define background color\n",
    "    bgcolor = 0xffffff\n",
    "    # create new blank image and \"paste\" the resized image in the middle of it\n",
    "    new_im = Image.new(\"RGB\", (desired_size, desired_size), bgcolor)\n",
    "    new_im.paste(im, ((desired_size-new_size[0])//2,\n",
    "                    (desired_size-new_size[1])//2))\n",
    "    \n",
    "    # do color equalization\n",
    "    arr = Image.fromarray(np.uint8(new_im))\n",
    "    new_im = ImageOps.equalize(arr)\n",
    "    return new_im"
   ]
  },
  {
   "cell_type": "code",
   "execution_count": 4,
   "metadata": {},
   "outputs": [
    {
     "name": "stdout",
     "output_type": "stream",
     "text": [
      "time: 18.2 ms\n"
     ]
    }
   ],
   "source": [
    "def load(imagePaths, verbose = -1):\n",
    "    data = []\n",
    "    labels = []\n",
    "\n",
    "    #loop over input images\n",
    "    for (i, imagePath) in enumerate(imagePaths):\n",
    "        # assumes our path has the following format:\n",
    "        # /path/to/dataset/{class}/{image}.jpg\n",
    "        image = Image.open(imagePath)\n",
    "        label = imagePath.split(os.path.sep)[-2]\n",
    "        \n",
    "        #preprocess\n",
    "        image = processImage(image, 128)\n",
    "        \n",
    "        data.append(np.asarray(image, dtype=np.uint8) / 255)\n",
    "        labels.append(label)\n",
    "\n",
    "        # show an update every 'verbose' images\n",
    "        if verbose > 0 and i > 0 and (i+1) % verbose == 0:\n",
    "            print('[INFO] processed {}/{}'.format(i + 1, len(imagePaths)))\n",
    "        \n",
    "    return (np.array(data), np.array(labels))"
   ]
  },
  {
   "cell_type": "code",
   "execution_count": 5,
   "metadata": {},
   "outputs": [
    {
     "name": "stdout",
     "output_type": "stream",
     "text": [
      "[INFO] processed 100/2122\n",
      "[INFO] processed 200/2122\n",
      "[INFO] processed 300/2122\n",
      "[INFO] processed 400/2122\n",
      "[INFO] processed 500/2122\n",
      "[INFO] processed 600/2122\n",
      "[INFO] processed 700/2122\n",
      "[INFO] processed 800/2122\n",
      "[INFO] processed 900/2122\n",
      "[INFO] processed 1000/2122\n",
      "[INFO] processed 1100/2122\n",
      "[INFO] processed 1200/2122\n",
      "[INFO] processed 1300/2122\n",
      "[INFO] processed 1400/2122\n",
      "[INFO] processed 1500/2122\n",
      "[INFO] processed 1600/2122\n",
      "[INFO] processed 1700/2122\n",
      "[INFO] processed 1800/2122\n",
      "[INFO] processed 1900/2122\n",
      "[INFO] processed 2000/2122\n",
      "[INFO] processed 2100/2122\n",
      "(2122, 128, 128, 3)\n",
      "(2122,)\n",
      "time: 11.4 s\n"
     ]
    }
   ],
   "source": [
    "imagePaths = list(paths.list_images('gear_images'))\n",
    "(data, labels) = load(imagePaths, verbose=100)\n",
    "\n",
    "size = 128 * 128 * 3\n",
    "print(data.shape)\n",
    "print(labels.shape)"
   ]
  },
  {
   "cell_type": "markdown",
   "metadata": {},
   "source": [
    "## Modelling"
   ]
  },
  {
   "cell_type": "markdown",
   "metadata": {},
   "source": [
    "### Encode Labels"
   ]
  },
  {
   "cell_type": "code",
   "execution_count": 6,
   "metadata": {},
   "outputs": [
    {
     "name": "stdout",
     "output_type": "stream",
     "text": [
      "['axes' 'boots' 'carabiners' 'crampons' 'gloves' 'hardshell_jackets'\n",
      " 'harnesses' 'helmets' 'insulated_jackets' 'pulleys' 'rope' 'tents']\n",
      "[[0 1 0 ... 0 0 0]\n",
      " [0 1 0 ... 0 0 0]\n",
      " [0 1 0 ... 0 0 0]\n",
      " ...\n",
      " [1 0 0 ... 0 0 0]\n",
      " [1 0 0 ... 0 0 0]\n",
      " [1 0 0 ... 0 0 0]]\n",
      "time: 30.8 ms\n"
     ]
    }
   ],
   "source": [
    "from sklearn import preprocessing\n",
    "lb = preprocessing.LabelBinarizer()\n",
    "encoded_labels = lb.fit_transform(labels)\n",
    "\n",
    "print(lb.classes_)\n",
    "print(encoded_labels)"
   ]
  },
  {
   "cell_type": "markdown",
   "metadata": {},
   "source": [
    "### Split Data"
   ]
  },
  {
   "cell_type": "code",
   "execution_count": 7,
   "metadata": {},
   "outputs": [
    {
     "name": "stdout",
     "output_type": "stream",
     "text": [
      "(1485, 128, 128, 3)\n",
      "(1485, 12)\n",
      "(637, 128, 128, 3)\n",
      "(637, 12)\n",
      "time: 323 ms\n"
     ]
    }
   ],
   "source": [
    "from sklearn.model_selection import train_test_split\n",
    "\n",
    "data_train, data_test, label_train, label_test = train_test_split(data, encoded_labels, test_size=0.3, random_state=1)\n",
    "\n",
    "print(data_train.shape)\n",
    "print(label_train.shape)\n",
    "print(data_test.shape)\n",
    "print(label_test.shape)"
   ]
  },
  {
   "cell_type": "markdown",
   "metadata": {},
   "source": [
    "### Train model"
   ]
  },
  {
   "cell_type": "markdown",
   "metadata": {},
   "source": [
    "#### Pipeline"
   ]
  },
  {
   "cell_type": "code",
   "execution_count": 8,
   "metadata": {},
   "outputs": [
    {
     "name": "stderr",
     "output_type": "stream",
     "text": [
      "/anaconda/envs/py35/lib/python3.5/site-packages/h5py/__init__.py:36: FutureWarning: Conversion of the second argument of issubdtype from `float` to `np.floating` is deprecated. In future, it will be treated as `np.float64 == np.dtype(float).type`.\n",
      "  from ._conv import register_converters as _register_converters\n",
      "Using TensorFlow backend.\n"
     ]
    },
    {
     "name": "stdout",
     "output_type": "stream",
     "text": [
      "time: 1.31 s\n"
     ]
    }
   ],
   "source": [
    "from keras.models import Sequential\n",
    "from keras.layers import Dense, Activation, Flatten\n",
    "from keras.layers import Conv2D, MaxPooling2D\n",
    "\n",
    "num_classes = 12\n",
    "\n",
    "model = Sequential()\n",
    "model.add(Conv2D(32, kernel_size=(7, 7), activation='relu', input_shape=data_train.shape[1:]))\n",
    "model.add(MaxPooling2D(pool_size=(2, 2)))\n",
    "model.add(Conv2D(64, (5, 5), activation='relu'))\n",
    "model.add(MaxPooling2D(pool_size=(2, 2)))\n",
    "model.add(Conv2D(128, (3, 3), activation='relu'))\n",
    "model.add(MaxPooling2D(pool_size=(2, 2)))\n",
    "model.add(Flatten())\n",
    "model.add(Dense(256, activation='relu'))\n",
    "model.add(Dense(num_classes, activation='softmax'))"
   ]
  },
  {
   "cell_type": "markdown",
   "metadata": {},
   "source": [
    "#### Compiler"
   ]
  },
  {
   "cell_type": "code",
   "execution_count": 9,
   "metadata": {},
   "outputs": [
    {
     "name": "stdout",
     "output_type": "stream",
     "text": [
      "time: 38.3 ms\n"
     ]
    }
   ],
   "source": [
    "# For a multi-class classification problem\n",
    "model.compile(optimizer='rmsprop',\n",
    "              loss='categorical_crossentropy',\n",
    "              metrics=['accuracy'])"
   ]
  },
  {
   "cell_type": "markdown",
   "metadata": {},
   "source": [
    "#### Train"
   ]
  },
  {
   "cell_type": "code",
   "execution_count": 10,
   "metadata": {},
   "outputs": [
    {
     "name": "stdout",
     "output_type": "stream",
     "text": [
      "Train on 1485 samples, validate on 637 samples\n",
      "Epoch 1/10\n",
      "1485/1485 [==============================] - 53s 36ms/step - loss: 8.5889 - acc: 0.2283 - val_loss: 1.9348 - val_acc: 0.3626\n",
      "Epoch 2/10\n",
      "1485/1485 [==============================] - 52s 35ms/step - loss: 1.2645 - acc: 0.6067 - val_loss: 0.8113 - val_acc: 0.7425\n",
      "Epoch 3/10\n",
      "1485/1485 [==============================] - 52s 35ms/step - loss: 0.6039 - acc: 0.8283 - val_loss: 0.6162 - val_acc: 0.7849\n",
      "Epoch 4/10\n",
      "1485/1485 [==============================] - 52s 35ms/step - loss: 0.2964 - acc: 0.9024 - val_loss: 0.8333 - val_acc: 0.7708\n",
      "Epoch 5/10\n",
      "1485/1485 [==============================] - 52s 35ms/step - loss: 0.1458 - acc: 0.9502 - val_loss: 0.4593 - val_acc: 0.8901\n",
      "Epoch 6/10\n",
      "1485/1485 [==============================] - 52s 35ms/step - loss: 0.0817 - acc: 0.9690 - val_loss: 0.3796 - val_acc: 0.9278\n",
      "Epoch 7/10\n",
      "1485/1485 [==============================] - 52s 35ms/step - loss: 0.0780 - acc: 0.9744 - val_loss: 0.5551 - val_acc: 0.9058\n",
      "Epoch 8/10\n",
      "1485/1485 [==============================] - 52s 35ms/step - loss: 0.1117 - acc: 0.9778 - val_loss: 0.3790 - val_acc: 0.9451\n",
      "Epoch 9/10\n",
      "1485/1485 [==============================] - 53s 35ms/step - loss: 0.0062 - acc: 0.9980 - val_loss: 0.5893 - val_acc: 0.9262\n",
      "Epoch 10/10\n",
      "1485/1485 [==============================] - 52s 35ms/step - loss: 0.1671 - acc: 0.9744 - val_loss: 0.5346 - val_acc: 0.9372\n"
     ]
    },
    {
     "data": {
      "text/plain": [
       "<keras.callbacks.History at 0x7f32f6eeb128>"
      ]
     },
     "execution_count": 10,
     "metadata": {},
     "output_type": "execute_result"
    },
    {
     "name": "stdout",
     "output_type": "stream",
     "text": [
      "time: 8min 43s\n"
     ]
    }
   ],
   "source": [
    "# Train the model, iterating on the data in batches of 32 samples\n",
    "model.fit(data_train, label_train, epochs=10, batch_size=32, validation_data=(data_test, label_test))"
   ]
  },
  {
   "cell_type": "code",
   "execution_count": 11,
   "metadata": {},
   "outputs": [
    {
     "name": "stdout",
     "output_type": "stream",
     "text": [
      "time: 1.68 ms\n"
     ]
    }
   ],
   "source": [
    "# Convert labels to categorical one-hot encoding\n",
    "#one_hot_labels = keras.utils.to_categorical(labels, num_classes=10)\n",
    "\n",
    "# Train the model, iterating on the data in batches of 32 samples\n",
    "#model.fit(data, one_hot_labels, epochs=10, batch_size=32)"
   ]
  },
  {
   "cell_type": "markdown",
   "metadata": {},
   "source": [
    "#### Predict"
   ]
  },
  {
   "cell_type": "code",
   "execution_count": 14,
   "metadata": {},
   "outputs": [
    {
     "name": "stdout",
     "output_type": "stream",
     "text": [
      "time: 7.1 s\n"
     ]
    }
   ],
   "source": [
    "pred = model.predict(data_test, batch_size = 100)"
   ]
  },
  {
   "cell_type": "code",
   "execution_count": 16,
   "metadata": {},
   "outputs": [
    {
     "name": "stdout",
     "output_type": "stream",
     "text": [
      "[[3.7412898e-13 1.5312960e-20 7.3370934e-15 ... 1.1816918e-21\n",
      "  1.5455980e-20 8.1173856e-25]\n",
      " [1.5979819e-13 2.0329386e-26 1.0000000e+00 ... 1.7349518e-15\n",
      "  6.6115247e-20 5.4963124e-25]\n",
      " [2.0272275e-06 3.9511156e-06 5.2762981e-11 ... 4.2275011e-07\n",
      "  9.9969816e-01 4.4549434e-11]\n",
      " ...\n",
      " [7.7011490e-01 2.5834581e-11 1.1339691e-16 ... 2.9962848e-16\n",
      "  1.1316949e-03 1.5276756e-08]\n",
      " [1.3657031e-13 6.0343265e-19 1.6733420e-17 ... 1.5280472e-18\n",
      "  1.0000000e+00 2.2148904e-25]\n",
      " [2.4626794e-04 2.4998961e-12 3.5562389e-06 ... 5.9731580e-09\n",
      "  5.0068462e-01 2.7841113e-19]]\n",
      "[[0 0 0 ... 0 0 0]\n",
      " [0 0 1 ... 0 0 0]\n",
      " [0 0 0 ... 0 1 0]\n",
      " ...\n",
      " [0 0 0 ... 0 0 0]\n",
      " [0 0 0 ... 0 1 0]\n",
      " [0 0 0 ... 1 0 0]]\n",
      "time: 3.09 ms\n"
     ]
    }
   ],
   "source": [
    "print(pred)\n",
    "print(label_test)"
   ]
  },
  {
   "cell_type": "markdown",
   "metadata": {},
   "source": [
    "### Score model"
   ]
  },
  {
   "cell_type": "code",
   "execution_count": 12,
   "metadata": {},
   "outputs": [
    {
     "name": "stdout",
     "output_type": "stream",
     "text": [
      "Test loss: 0.5345606900217214\n",
      "Test accuracy: 0.9372056516785076\n",
      "time: 7.12 s\n"
     ]
    }
   ],
   "source": [
    "score = model.evaluate(data_test, label_test, verbose=0)\n",
    "\n",
    "print('Test loss:', score[0])\n",
    "print('Test accuracy:', score[1])"
   ]
  },
  {
   "cell_type": "markdown",
   "metadata": {},
   "source": [
    "\n",
    "### Full Report"
   ]
  },
  {
   "cell_type": "code",
   "execution_count": 17,
   "metadata": {},
   "outputs": [
    {
     "name": "stdout",
     "output_type": "stream",
     "text": [
      "                   precision    recall  f1-score   support\n",
      "\n",
      "             axes       0.84      0.84      0.84        19\n",
      "            boots       1.00      0.97      0.99        37\n",
      "       carabiners       0.99      0.93      0.96        82\n",
      "         crampons       0.89      0.92      0.90        36\n",
      "           gloves       0.90      0.88      0.89        65\n",
      "hardshell_jackets       0.96      1.00      0.98       129\n",
      "        harnesses       0.93      0.98      0.96        56\n",
      "          helmets       0.97      0.91      0.94        33\n",
      "insulated_jackets       0.98      0.91      0.95        70\n",
      "          pulleys       0.80      0.75      0.77        16\n",
      "             rope       0.85      0.98      0.91        58\n",
      "            tents       0.97      0.89      0.93        36\n",
      "\n",
      "      avg / total       0.94      0.94      0.94       637\n",
      "\n",
      "time: 4.2 ms\n"
     ]
    }
   ],
   "source": [
    "import sklearn.metrics as metrics\n",
    "\n",
    "target_names = lb.classes_\n",
    "print(metrics.classification_report(label_test.argmax(axis=1), pred.argmax(axis=1), target_names=target_names))"
   ]
  },
  {
   "cell_type": "markdown",
   "metadata": {},
   "source": [
    "### Save model"
   ]
  },
  {
   "cell_type": "code",
   "execution_count": 18,
   "metadata": {},
   "outputs": [
    {
     "name": "stdout",
     "output_type": "stream",
     "text": [
      "time: 125 ms\n"
     ]
    }
   ],
   "source": [
    "model.save(\"keras-cnn.h5\")"
   ]
  },
  {
   "cell_type": "code",
   "execution_count": null,
   "metadata": {},
   "outputs": [],
   "source": []
  }
 ],
 "metadata": {
  "kernelspec": {
   "display_name": "Python 3",
   "language": "python",
   "name": "python3"
  },
  "language_info": {
   "codemirror_mode": {
    "name": "ipython",
    "version": 3
   },
   "file_extension": ".py",
   "mimetype": "text/x-python",
   "name": "python",
   "nbconvert_exporter": "python",
   "pygments_lexer": "ipython3",
   "version": "3.5.4"
  }
 },
 "nbformat": 4,
 "nbformat_minor": 2
}
