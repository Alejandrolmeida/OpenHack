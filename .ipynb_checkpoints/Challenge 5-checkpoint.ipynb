{
 "cells": [
  {
   "cell_type": "markdown",
   "metadata": {},
   "source": [
    "# Challenge 5"
   ]
  },
  {
   "cell_type": "markdown",
   "metadata": {},
   "source": [
    "## Import Libraries"
   ]
  },
  {
   "cell_type": "code",
   "execution_count": 4,
   "metadata": {},
   "outputs": [],
   "source": [
    "from PIL import Image, ImageDraw, ImageFont, ExifTags\n",
    "import requests, time, sys, json\n",
    "import urllib, base64, io"
   ]
  },
  {
   "cell_type": "markdown",
   "metadata": {},
   "source": [
    "## Utility Functions"
   ]
  },
  {
   "cell_type": "code",
   "execution_count": 6,
   "metadata": {},
   "outputs": [],
   "source": [
    "def pilImread(imgPath):\n",
    "    pilImg = Image.open(imgPath).convert('RGB')\n",
    "    return pilImg\n",
    "\n",
    "def pilImgToBase64(pilImg):\n",
    "    pilImg = pilImg.convert('RGB') #not sure this is necessary\n",
    "    imgio = io.BytesIO()\n",
    "    pilImg.save(imgio, 'PNG')\n",
    "    imgio.seek(0)\n",
    "    dataimg = base64.b64encode(imgio.read())\n",
    "    return dataimg.decode('utf-8')\n",
    "\n",
    "def base64ToPilImg(base64ImgString):\n",
    "    if base64ImgString.startswith('b\\''):\n",
    "        base64ImgString = base64ImgString[2:-1]\n",
    "    base64Img   =  base64ImgString.encode('utf-8')\n",
    "    decoded_img = base64.b64decode(base64Img)\n",
    "    img_buffer  = io.BytesIO(decoded_img)\n",
    "    pil_img = Image.open(img_buffer).convert('RGB')\n",
    "    return pil_img"
   ]
  },
  {
   "cell_type": "markdown",
   "metadata": {},
   "source": [
    "## Consume model"
   ]
  },
  {
   "cell_type": "code",
   "execution_count": 7,
   "metadata": {},
   "outputs": [
    {
     "name": "stdout",
     "output_type": "stream",
     "text": [
      "[INFO] Calling webservice at URL http://104.45.17.25/api/v1/service/awcnn/score\n",
      "Image gear_images/axes/850859.jpeg classified as 'axes' with confidence score 0.999993.\n",
      "Image gear_images/gloves/852695.jpeg classified as 'gloves' with confidence score 1.0.\n",
      "Image gear_images/rope/110336.jpeg classified as 'rope' with confidence score 0.999937.\n"
     ]
    }
   ],
   "source": [
    "imgPaths = [\"gear_images/axes/850859.jpeg\", \n",
    "        \"gear_images/gloves/852695.jpeg\",\n",
    "        \"gear_images/rope/110336.jpeg\"]\n",
    "\n",
    "cluster_scoring_url = \"http://104.45.17.25/api/v1/service/awcnn/score\"\n",
    "service_key         = \"mjHe4dbMO7Ksn9JqvmhsEYblcdZSlNQv\"\n",
    "\n",
    "# Repeat web-service call 3 times\n",
    "print(\"[INFO] Calling webservice at URL {}\".format(cluster_scoring_url))\n",
    "for i in range(3):\n",
    "    base64Img = pilImgToBase64(pilImread(imgPaths[i]))\n",
    "    headers = {'Content-Type': 'application/json'}\n",
    "    if service_key is not None and service_key is not []:\n",
    "        headers['Authorization'] = 'Bearer ' + service_key\n",
    "    \n",
    "    data = \"{\\\"img_data\\\":\\\"\" + base64Img + \"\\\"}\"\n",
    "    startTime = time.time()\n",
    "    res = requests.post(cluster_scoring_url, headers=headers, data=data)\n",
    "\n",
    "    try:\n",
    "        resDict = json.loads(res.json())\n",
    "        print(\"Image {} classified as '{}' with confidence score {}.\".format(imgPaths[i], json.loads(res.json())[\"label\"], json.loads(res.json())[\"score\"]))\n",
    "    except:\n",
    "        print(\"ERROR: webservice returned message \" + res.text)"
   ]
  },
  {
   "cell_type": "code",
   "execution_count": null,
   "metadata": {},
   "outputs": [],
   "source": []
  }
 ],
 "metadata": {
  "kernelspec": {
   "display_name": "Python 3",
   "language": "python",
   "name": "python3"
  },
  "language_info": {
   "codemirror_mode": {
    "name": "ipython",
    "version": 3
   },
   "file_extension": ".py",
   "mimetype": "text/x-python",
   "name": "python",
   "nbconvert_exporter": "python",
   "pygments_lexer": "ipython3",
   "version": "3.5.4"
  }
 },
 "nbformat": 4,
 "nbformat_minor": 2
}
