{
 "cells": [
  {
   "cell_type": "markdown",
   "metadata": {},
   "source": [
    "# Challenge 1"
   ]
  },
  {
   "cell_type": "code",
   "execution_count": 14,
   "metadata": {},
   "outputs": [],
   "source": [
    "from azure.cognitiveservices.vision.customvision.training import training_api\n",
    "from azure.cognitiveservices.vision.customvision.training.models import ImageUrlCreateEntry\n",
    "\n",
    "# Replace with a valid key\n",
    "prediction_key = \"34876a8b466a4216b01c37ed53d6da2e\"\n",
    "project_id = \"abdf32f7-f7f4-4371-92ec-dd87c07f788c\""
   ]
  },
  {
   "cell_type": "code",
   "execution_count": 13,
   "metadata": {},
   "outputs": [
    {
     "name": "stdout",
     "output_type": "stream",
     "text": [
      "gear_images/insulated_jackets/866332.jpeg\r\n"
     ]
    }
   ],
   "source": [
    "! ls gear_images/insulated_jackets/866332.jpeg"
   ]
  },
  {
   "cell_type": "code",
   "execution_count": 15,
   "metadata": {},
   "outputs": [
    {
     "name": "stdout",
     "output_type": "stream",
     "text": [
      "\tinsulated_jackets: 99.93%\n",
      "\thardshell_jackets: 0.02%\n"
     ]
    }
   ],
   "source": [
    "from azure.cognitiveservices.vision.customvision.prediction import prediction_endpoint\n",
    "from azure.cognitiveservices.vision.customvision.prediction.prediction_endpoint import models\n",
    "\n",
    "# Now there is a trained endpoint that can be used to make a prediction\n",
    "\n",
    "predictor = prediction_endpoint.PredictionEndpoint(prediction_key)\n",
    "\n",
    "#test_img_url = base_image_url + \"Images/Test/test_image.jpg\"\n",
    "#results = predictor.predict_image_url(project.id, iteration.id, url=test_img_url)\n",
    "\n",
    "# Alternatively, if the images were on disk in a folder called Images alongside the sample.py, then\n",
    "# they can be added by using the following.\n",
    "#\n",
    "# Open the sample image and get back the prediction results.\n",
    "with open(\"gear_images/insulated_jackets/866332.jpeg\", mode=\"rb\") as test_data:\n",
    "    results = predictor.predict_image(project_id, test_data)\n",
    "\n",
    "# Display the results.\n",
    "for prediction in results.predictions:\n",
    "    print (\"\\t\" + prediction.tag_name + \": {0:.2f}%\".format(prediction.probability * 100))"
   ]
  },
  {
   "cell_type": "code",
   "execution_count": null,
   "metadata": {},
   "outputs": [],
   "source": []
  }
 ],
 "metadata": {
  "kernelspec": {
   "display_name": "Python 3",
   "language": "python",
   "name": "python3"
  },
  "language_info": {
   "codemirror_mode": {
    "name": "ipython",
    "version": 3
   },
   "file_extension": ".py",
   "mimetype": "text/x-python",
   "name": "python",
   "nbconvert_exporter": "python",
   "pygments_lexer": "ipython3",
   "version": "3.5.4"
  }
 },
 "nbformat": 4,
 "nbformat_minor": 2
}
