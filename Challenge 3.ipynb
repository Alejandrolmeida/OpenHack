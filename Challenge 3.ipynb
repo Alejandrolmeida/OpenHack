{
 "cells": [
  {
   "cell_type": "markdown",
   "metadata": {},
   "source": [
    "# Challenge 3"
   ]
  },
  {
   "cell_type": "code",
   "execution_count": 53,
   "metadata": {},
   "outputs": [],
   "source": [
    "%load_ext autotime"
   ]
  },
  {
   "cell_type": "markdown",
   "metadata": {},
   "source": [
    "## Preprocessing"
   ]
  },
  {
   "cell_type": "code",
   "execution_count": 54,
   "metadata": {},
   "outputs": [
    {
     "name": "stdout",
     "output_type": "stream",
     "text": [
      "time: 18.1 ms\n"
     ]
    }
   ],
   "source": [
    "import cv2\n",
    "import numpy as np\n",
    "import matplotlib.pyplot as plt\n",
    "import seaborn as sns\n",
    "from PIL import Image, ImageOps\n",
    "import os\n",
    "from imutils import paths\n",
    "%matplotlib inline"
   ]
  },
  {
   "cell_type": "code",
   "execution_count": 55,
   "metadata": {},
   "outputs": [
    {
     "name": "stdout",
     "output_type": "stream",
     "text": [
      "time: 21.7 ms\n"
     ]
    }
   ],
   "source": [
    "def processImage(im, desired_size, debug=False):\n",
    "    # get old size\n",
    "    old_size = im.size \n",
    "    # detect the ratio to which we need to scale the image\n",
    "    ratio = float(desired_size)/max(old_size)\n",
    "    # detect the new size of the image to fit the square box\n",
    "    new_size = tuple([int(x*ratio) for x in old_size])\n",
    "    # resize to new size\n",
    "    im = im.resize(new_size, Image.ANTIALIAS)\n",
    "    # define background color\n",
    "    bgcolor = 0xffffff\n",
    "    # create new blank image and \"paste\" the resized image in the middle of it\n",
    "    new_im = Image.new(\"RGB\", (desired_size, desired_size), bgcolor)\n",
    "    new_im.paste(im, ((desired_size-new_size[0])//2,\n",
    "                    (desired_size-new_size[1])//2))\n",
    "    \n",
    "    # do color equalization\n",
    "    arr = Image.fromarray(np.uint8(new_im))\n",
    "    new_im = ImageOps.equalize(arr)\n",
    "    return new_im"
   ]
  },
  {
   "cell_type": "code",
   "execution_count": 56,
   "metadata": {},
   "outputs": [
    {
     "name": "stdout",
     "output_type": "stream",
     "text": [
      "time: 18.5 ms\n"
     ]
    }
   ],
   "source": [
    "def load(imagePaths, verbose = -1):\n",
    "    data = []\n",
    "    labels = []\n",
    "\n",
    "    #loop over input images\n",
    "    for (i, imagePath) in enumerate(imagePaths):\n",
    "        # assumes our path has the following format:\n",
    "        # /path/to/dataset/{class}/{image}.jpg\n",
    "        image = Image.open(imagePath)\n",
    "        label = imagePath.split(os.path.sep)[-2]\n",
    "        \n",
    "        #preprocess\n",
    "        image = processImage(image, 128)\n",
    "        \n",
    "        data.append(np.asarray(image))\n",
    "        labels.append(label)\n",
    "\n",
    "        # show an update every 'verbose' images\n",
    "        if verbose > 0 and i > 0 and (i+1) % verbose == 0:\n",
    "            print('[INFO] processed {}/{}'.format(i + 1, len(imagePaths)))\n",
    "        \n",
    "    return (np.array(data), np.array(labels))"
   ]
  },
  {
   "cell_type": "code",
   "execution_count": 57,
   "metadata": {},
   "outputs": [
    {
     "name": "stdout",
     "output_type": "stream",
     "text": [
      "[INFO] processed 100/2122\n",
      "[INFO] processed 200/2122\n",
      "[INFO] processed 300/2122\n",
      "[INFO] processed 400/2122\n",
      "[INFO] processed 500/2122\n",
      "[INFO] processed 600/2122\n",
      "[INFO] processed 700/2122\n",
      "[INFO] processed 800/2122\n",
      "[INFO] processed 900/2122\n",
      "[INFO] processed 1000/2122\n",
      "[INFO] processed 1100/2122\n",
      "[INFO] processed 1200/2122\n",
      "[INFO] processed 1300/2122\n",
      "[INFO] processed 1400/2122\n",
      "[INFO] processed 1500/2122\n",
      "[INFO] processed 1600/2122\n",
      "[INFO] processed 1700/2122\n",
      "[INFO] processed 1800/2122\n",
      "[INFO] processed 1900/2122\n",
      "[INFO] processed 2000/2122\n",
      "[INFO] processed 2100/2122\n",
      "Before reshaping:  (2122, 128, 128, 3)\n",
      "After reshaping:  (2122, 49152)\n",
      "time: 10.3 s\n"
     ]
    }
   ],
   "source": [
    "imagePaths = list(paths.list_images('gear_images'))\n",
    "(data, labels) = load(imagePaths, verbose=100)\n",
    "\n",
    "print(\"Before reshaping: \", data.shape)\n",
    "size = 128 * 128 * 3\n",
    "data = data.reshape(data.shape[0], size)\n",
    "print(\"After reshaping: \", data.shape)"
   ]
  },
  {
   "cell_type": "code",
   "execution_count": 58,
   "metadata": {},
   "outputs": [
    {
     "data": {
      "text/plain": [
       "(2122, 49152)"
      ]
     },
     "execution_count": 58,
     "metadata": {},
     "output_type": "execute_result"
    },
    {
     "name": "stdout",
     "output_type": "stream",
     "text": [
      "time: 2.91 ms\n"
     ]
    }
   ],
   "source": [
    "data.shape"
   ]
  },
  {
   "cell_type": "code",
   "execution_count": 59,
   "metadata": {},
   "outputs": [
    {
     "data": {
      "text/plain": [
       "(2122,)"
      ]
     },
     "execution_count": 59,
     "metadata": {},
     "output_type": "execute_result"
    },
    {
     "name": "stdout",
     "output_type": "stream",
     "text": [
      "time: 16.9 ms\n"
     ]
    }
   ],
   "source": [
    "labels.shape"
   ]
  },
  {
   "cell_type": "code",
   "execution_count": 60,
   "metadata": {},
   "outputs": [
    {
     "data": {
      "text/plain": [
       "numpy.ndarray"
      ]
     },
     "execution_count": 60,
     "metadata": {},
     "output_type": "execute_result"
    },
    {
     "name": "stdout",
     "output_type": "stream",
     "text": [
      "time: 16 ms\n"
     ]
    }
   ],
   "source": [
    "type(data)"
   ]
  },
  {
   "cell_type": "code",
   "execution_count": 61,
   "metadata": {},
   "outputs": [
    {
     "data": {
      "text/plain": [
       "numpy.ndarray"
      ]
     },
     "execution_count": 61,
     "metadata": {},
     "output_type": "execute_result"
    },
    {
     "name": "stdout",
     "output_type": "stream",
     "text": [
      "time: 14.6 ms\n"
     ]
    }
   ],
   "source": [
    "type(labels)"
   ]
  },
  {
   "cell_type": "markdown",
   "metadata": {},
   "source": [
    "## Modelling"
   ]
  },
  {
   "cell_type": "markdown",
   "metadata": {},
   "source": [
    "### Encode Labels"
   ]
  },
  {
   "cell_type": "code",
   "execution_count": 62,
   "metadata": {},
   "outputs": [
    {
     "name": "stdout",
     "output_type": "stream",
     "text": [
      "['axes' 'boots' 'carabiners' 'crampons' 'gloves' 'hardshell_jackets'\n",
      " 'harnesses' 'helmets' 'insulated_jackets' 'pulleys' 'rope' 'tents']\n",
      "[1 1 1 ... 0 0 0]\n",
      "time: 19.5 ms\n"
     ]
    }
   ],
   "source": [
    "from sklearn import preprocessing\n",
    "le = preprocessing.LabelEncoder()\n",
    "encoded_labels = le.fit_transform(labels)\n",
    "\n",
    "print(le.classes_)\n",
    "print(encoded_labels)"
   ]
  },
  {
   "cell_type": "markdown",
   "metadata": {},
   "source": [
    "### Split Data"
   ]
  },
  {
   "cell_type": "code",
   "execution_count": 63,
   "metadata": {},
   "outputs": [
    {
     "name": "stdout",
     "output_type": "stream",
     "text": [
      "(1485, 49152)\n",
      "(1485,)\n",
      "(637, 49152)\n",
      "(637,)\n",
      "time: 43.7 ms\n"
     ]
    }
   ],
   "source": [
    "from sklearn.model_selection import train_test_split\n",
    "\n",
    "data_train, data_test, label_train, label_test = train_test_split(data, encoded_labels, test_size=0.3, random_state=1)\n",
    "\n",
    "print(data_train.shape)\n",
    "print(label_train.shape)\n",
    "print(data_test.shape)\n",
    "print(label_test.shape)"
   ]
  },
  {
   "cell_type": "markdown",
   "metadata": {},
   "source": [
    "### Train model"
   ]
  },
  {
   "cell_type": "code",
   "execution_count": 65,
   "metadata": {},
   "outputs": [
    {
     "name": "stdout",
     "output_type": "stream",
     "text": [
      "time: 1min 39s\n"
     ]
    }
   ],
   "source": [
    "from sklearn.neighbors import KNeighborsClassifier\n",
    "\n",
    "model = KNeighborsClassifier(n_neighbors=3)\n",
    "model.fit(data_train, label_train) \n",
    "\n",
    "pred_knn = model.predict(data_test)"
   ]
  },
  {
   "cell_type": "code",
   "execution_count": 66,
   "metadata": {},
   "outputs": [
    {
     "name": "stdout",
     "output_type": "stream",
     "text": [
      "time: 3.78 s\n"
     ]
    }
   ],
   "source": [
    "from sklearn.ensemble import RandomForestClassifier\n",
    "model = RandomForestClassifier(n_estimators=100, n_jobs=-1, random_state=1)\n",
    "model.fit(data_train, label_train) \n",
    "\n",
    "pred_tree = model.predict(data_test)"
   ]
  },
  {
   "cell_type": "markdown",
   "metadata": {},
   "source": [
    "### Score model"
   ]
  },
  {
   "cell_type": "code",
   "execution_count": 67,
   "metadata": {},
   "outputs": [
    {
     "name": "stdout",
     "output_type": "stream",
     "text": [
      "0.9058084772370487\n",
      "0.8948194662480377\n",
      "time: 3.68 ms\n"
     ]
    }
   ],
   "source": [
    "from sklearn.metrics import accuracy_score\n",
    "\n",
    "print(accuracy_score(label_test, pred_knn))\n",
    "print(accuracy_score(label_test, pred_tree))"
   ]
  },
  {
   "cell_type": "markdown",
   "metadata": {},
   "source": [
    "### Confusion Matrix"
   ]
  },
  {
   "cell_type": "code",
   "execution_count": 68,
   "metadata": {},
   "outputs": [
    {
     "data": {
      "image/png": "[encoded data removed]",
      "text/plain": [
       "<matplotlib.figure.Figure at 0x7fa7f8afa208>"
      ]
     },
     "metadata": {},
     "output_type": "display_data"
    },
    {
     "name": "stdout",
     "output_type": "stream",
     "text": [
      "time: 254 ms\n"
     ]
    }
   ],
   "source": [
    "import matplotlib.pyplot as plt\n",
    "from sklearn.metrics import confusion_matrix\n",
    "\n",
    "columns = le.classes_\n",
    "confusion = confusion_matrix(label_test, pred_knn)\n",
    "\n",
    "plt.imshow(confusion, cmap=plt.cm.Blues, interpolation='nearest')\n",
    "plt.xticks([0,1,2,3,4,5,6,7,8,9,10,11,12], columns, rotation='vertical')\n",
    "plt.yticks([0,1,2,3,4,5,6,7,8,9,10,11,12], columns)\n",
    "plt.colorbar()\n",
    "\n",
    "plt.show()"
   ]
  },
  {
   "cell_type": "markdown",
   "metadata": {},
   "source": [
    "\n",
    "### Full Report"
   ]
  },
  {
   "cell_type": "code",
   "execution_count": 69,
   "metadata": {},
   "outputs": [
    {
     "name": "stdout",
     "output_type": "stream",
     "text": [
      "                   precision    recall  f1-score   support\n",
      "\n",
      "             axes       0.78      0.95      0.86        19\n",
      "            boots       0.97      1.00      0.99        37\n",
      "       carabiners       0.88      0.93      0.90        82\n",
      "         crampons       1.00      0.83      0.91        36\n",
      "           gloves       0.93      0.95      0.94        65\n",
      "hardshell_jackets       0.84      0.97      0.90       129\n",
      "        harnesses       0.98      0.93      0.95        56\n",
      "          helmets       1.00      0.85      0.92        33\n",
      "insulated_jackets       0.92      0.69      0.79        70\n",
      "          pulleys       1.00      0.56      0.72        16\n",
      "             rope       0.98      0.98      0.98        58\n",
      "            tents       0.80      0.97      0.88        36\n",
      "\n",
      "      avg / total       0.91      0.91      0.90       637\n",
      "\n",
      "time: 4.11 ms\n"
     ]
    }
   ],
   "source": [
    "import sklearn.metrics as metrics\n",
    "\n",
    "target_names = le.classes_\n",
    "print(metrics.classification_report(label_test, pred_knn, target_names=target_names))"
   ]
  },
  {
   "cell_type": "markdown",
   "metadata": {},
   "source": [
    "### Score best model against a different dataset"
   ]
  },
  {
   "cell_type": "code",
   "execution_count": 70,
   "metadata": {},
   "outputs": [
    {
     "name": "stdout",
     "output_type": "stream",
     "text": [
      "  % Total    % Received % Xferd  Average Speed   Time    Time     Time  Current\n",
      "                                 Dload  Upload   Total   Spent    Left  Speed\n",
      "100  167k  100  167k    0     0   741k      0 --:--:-- --:--:-- --:--:--  744k\n",
      "total 500\n",
      "-rw-rw-r--  1 ikos ikos 182035 May 31 07:56 Challenge 0.ipynb\n",
      "-rw-rw-r--  1 ikos ikos   2880 May 30 13:20 Challenge 1.ipynb\n",
      "-rw-rw-r--  1 ikos ikos 120077 May 30 14:45 Challenge 2.ipynb\n",
      "-rw-rw-r--  1 ikos ikos  11940 May 31 09:39 Challenge 3.ipynb\n",
      "drwxrwxr-x 14 ikos ikos   4096 May 30 10:42 gear_images\n",
      "-rw-rw-r--  1 ikos ikos   1074 May 30 13:11 LICENSE\n",
      "-rw-rw-r--  1 ikos ikos     38 May 30 13:11 README.md\n",
      "drwxrwxr-x  2 ikos ikos   4096 May 31 08:01 Source\n",
      "-rw-rw-r--  1 ikos ikos 171537 May 31 09:41 test.jpeg\n",
      "time: 622 ms\n"
     ]
    }
   ],
   "source": [
    "! curl https://shop.epictv.com/sites/default/files/ae42ad29e70ba8ce6b67d3bdb6ab5c6e.jpeg -O\n",
    "! mv ae42ad29e70ba8ce6b67d3bdb6ab5c6e.jpeg test.jpeg\n",
    "! ls -l"
   ]
  },
  {
   "cell_type": "code",
   "execution_count": 71,
   "metadata": {},
   "outputs": [
    {
     "name": "stdout",
     "output_type": "stream",
     "text": [
      "Before reshaping:  (1, 128, 128, 3)\n",
      "After reshaping:  (1, 49152)\n",
      "time: 155 ms\n"
     ]
    }
   ],
   "source": [
    "rt_data = []\n",
    "rt_image = Image.open(\"test.jpeg\")\n",
    "\n",
    "rt_image = processImage(rt_image, 128)\n",
    "rt_data.append(np.asarray(rt_image))\n",
    "\n",
    "rt_data = np.array(rt_data)\n",
    "\n",
    "print(\"Before reshaping: \", rt_data.shape)\n",
    "size = 128 * 128 * 3\n",
    "rt_data = rt_data.reshape(1, size)\n",
    "print(\"After reshaping: \", rt_data.shape)\n",
    "\n",
    "rt_pred_knn = model.predict(rt_data)"
   ]
  },
  {
   "cell_type": "code",
   "execution_count": 72,
   "metadata": {},
   "outputs": [
    {
     "name": "stdout",
     "output_type": "stream",
     "text": [
      "0.9058084772370487\n",
      "[7]\n",
      "['helmets']\n",
      "time: 2.95 ms\n"
     ]
    }
   ],
   "source": [
    "print(accuracy_score(label_test, pred_knn))\n",
    "print(rt_pred_knn)\n",
    "print(le.classes_[rt_pred_knn])"
   ]
  },
  {
   "cell_type": "code",
   "execution_count": null,
   "metadata": {},
   "outputs": [],
   "source": []
  }
 ],
 "metadata": {
  "kernelspec": {
   "display_name": "Python 3",
   "language": "python",
   "name": "python3"
  },
  "language_info": {
   "codemirror_mode": {
    "name": "ipython",
    "version": 3
   },
   "file_extension": ".py",
   "mimetype": "text/x-python",
   "name": "python",
   "nbconvert_exporter": "python",
   "pygments_lexer": "ipython3",
   "version": "3.5.4"
  }
 },
 "nbformat": 4,
 "nbformat_minor": 2
}
