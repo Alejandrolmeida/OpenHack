{
 "cells": [
  {
   "cell_type": "markdown",
   "metadata": {},
   "source": [
    "# Challenge 3"
   ]
  },
  {
   "cell_type": "markdown",
   "metadata": {},
   "source": [
    "## Preprocessing"
   ]
  },
  {
   "cell_type": "code",
   "execution_count": 1,
   "metadata": {},
   "outputs": [],
   "source": [
    "import cv2\n",
    "import numpy as np\n",
    "import matplotlib.pyplot as plt\n",
    "import seaborn as sns\n",
    "from PIL import Image, ImageOps\n",
    "import os\n",
    "from imutils import paths\n",
    "%matplotlib inline"
   ]
  },
  {
   "cell_type": "code",
   "execution_count": 2,
   "metadata": {},
   "outputs": [],
   "source": [
    "def processImage(im, desired_size, debug=False):\n",
    "    # get old size\n",
    "    old_size = im.size \n",
    "    # detect the ratio to which we need to scale the image\n",
    "    ratio = float(desired_size)/max(old_size)\n",
    "    # detect the new size of the image to fit the square box\n",
    "    new_size = tuple([int(x*ratio) for x in old_size])\n",
    "    # resize to new size\n",
    "    im = im.resize(new_size, Image.ANTIALIAS)\n",
    "    # define background color\n",
    "    bgcolor = 0xffffff\n",
    "    # create new blank image and \"paste\" the resized image in the middle of it\n",
    "    new_im = Image.new(\"RGB\", (desired_size, desired_size), bgcolor)\n",
    "    new_im.paste(im, ((desired_size-new_size[0])//2,\n",
    "                    (desired_size-new_size[1])//2))\n",
    "    \n",
    "    # do color equalization\n",
    "    arr = Image.fromarray(np.uint8(new_im))\n",
    "    new_im = ImageOps.equalize(arr)\n",
    "    return new_im"
   ]
  },
  {
   "cell_type": "code",
   "execution_count": 3,
   "metadata": {},
   "outputs": [],
   "source": [
    "def load(imagePaths, verbose = -1):\n",
    "    data = []\n",
    "    labels = []\n",
    "\n",
    "    #loop over input images\n",
    "    for (i, imagePath) in enumerate(imagePaths):\n",
    "        # assumes our path has the following format:\n",
    "        # /path/to/dataset/{class}/{image}.jpg\n",
    "        image = Image.open(imagePath)\n",
    "        label = imagePath.split(os.path.sep)[-2]\n",
    "        \n",
    "        #preprocess\n",
    "        image = processImage(image, 128)\n",
    "        \n",
    "        data.append(np.asarray(image))\n",
    "        labels.append(label)\n",
    "\n",
    "        # show an update every 'verbose' images\n",
    "        if verbose > 0 and i > 0 and (i+1) % verbose == 0:\n",
    "            print('[INFO] processed {}/{}'.format(i + 1, len(imagePaths)))\n",
    "        \n",
    "    return (np.array(data), np.array(labels))"
   ]
  },
  {
   "cell_type": "code",
   "execution_count": 4,
   "metadata": {},
   "outputs": [
    {
     "name": "stdout",
     "output_type": "stream",
     "text": [
      "[INFO] processed 100/2122\n",
      "[INFO] processed 200/2122\n",
      "[INFO] processed 300/2122\n",
      "[INFO] processed 400/2122\n",
      "[INFO] processed 500/2122\n",
      "[INFO] processed 600/2122\n",
      "[INFO] processed 700/2122\n",
      "[INFO] processed 800/2122\n",
      "[INFO] processed 900/2122\n",
      "[INFO] processed 1000/2122\n",
      "[INFO] processed 1100/2122\n",
      "[INFO] processed 1200/2122\n",
      "[INFO] processed 1300/2122\n",
      "[INFO] processed 1400/2122\n",
      "[INFO] processed 1500/2122\n",
      "[INFO] processed 1600/2122\n",
      "[INFO] processed 1700/2122\n",
      "[INFO] processed 1800/2122\n",
      "[INFO] processed 1900/2122\n",
      "[INFO] processed 2000/2122\n",
      "[INFO] processed 2100/2122\n",
      "Before reshaping:  (2122, 128, 128, 3)\n",
      "After reshaping:  (2122, 49152)\n"
     ]
    }
   ],
   "source": [
    "imagePaths = list(paths.list_images('gear_images'))\n",
    "(data, labels) = load(imagePaths, verbose=100)\n",
    "\n",
    "print(\"Before reshaping: \", data.shape)\n",
    "size = 128 * 128 * 3\n",
    "data = data.reshape(data.shape[0], size)\n",
    "print(\"After reshaping: \", data.shape)"
   ]
  },
  {
   "cell_type": "code",
   "execution_count": 5,
   "metadata": {},
   "outputs": [
    {
     "data": {
      "text/plain": [
       "(2122, 49152)"
      ]
     },
     "execution_count": 5,
     "metadata": {},
     "output_type": "execute_result"
    }
   ],
   "source": [
    "data.shape"
   ]
  },
  {
   "cell_type": "code",
   "execution_count": 6,
   "metadata": {},
   "outputs": [
    {
     "data": {
      "text/plain": [
       "(2122,)"
      ]
     },
     "execution_count": 6,
     "metadata": {},
     "output_type": "execute_result"
    }
   ],
   "source": [
    "labels.shape"
   ]
  }
 ],
 "metadata": {
  "kernelspec": {
   "display_name": "Python 3",
   "language": "python",
   "name": "python3"
  },
  "language_info": {
   "codemirror_mode": {
    "name": "ipython",
    "version": 3
   },
   "file_extension": ".py",
   "mimetype": "text/x-python",
   "name": "python",
   "nbconvert_exporter": "python",
   "pygments_lexer": "ipython3",
   "version": "3.5.4"
  }
 },
 "nbformat": 4,
 "nbformat_minor": 2
}
